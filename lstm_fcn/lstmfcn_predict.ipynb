{
  "cells": [
    {
      "cell_type": "code",
      "execution_count": null,
      "metadata": {
        "collapsed": true,
        "pycharm": {}
      },
      "outputs": [],
      "source": "%%capture\n\nfrom google.colab import drive, files\ndrive.mount(\u0027/content/gdrive\u0027, force_remount\u003dTrue)"
    },
    {
      "cell_type": "code",
      "execution_count": null,
      "outputs": [],
      "source": "import sys\nimport matplotlib.pyplot as plt\nimport keras\nimport tensorflow\nimport pandas as pd\nfrom keras.layers import *\nfrom pathlib import Path\n\nfrom lstm_fcn.lstmfcn_model import *\nfrom reading_data import load_npz_file\n\n\nnp.set_printoptions(edgeitems\u003d30, linewidth\u003d100000, formatter\u003ddict(float\u003dlambda x: \"%.3g\" % x))\nGOOGLE_COLAB \u003d \"google.colab\" in sys.modules\nif GOOGLE_COLAB:\n    sys.path.append(\"./gdrive/My Drive/Colab Notebooks/FRETML\")\n    plt.style.use(\"default\")\n    config \u003d tensorflow.ConfigProto(device_count\u003d{\"GPU\": 1})\n    keras.backend.set_session(tensorflow.Session(config\u003dconfig))\nelse:\n    config \u003d tensorflow.ConfigProto(intra_op_parallelism_threads\u003d8, inter_op_parallelism_threads\u003d8)\n    keras.backend.tensorflow_backend.set_session(tensorflow.Session(config\u003dconfig))\n\n",
      "metadata": {
        "pycharm": {
          "metadata": false,
          "name": "#%%\n"
        }
      }
    },
    {
      "cell_type": "code",
      "execution_count": null,
      "outputs": [],
      "source": "if __name__ \u003d\u003d \u0027__main__\u0027:\n    ROOTDIR \u003d \"/Users/mag/Google Drive/Colab Notebooks/solar_flares/\"\n    DATADIR \u003d \"input/npz\"\n    OUTDIR \u003d \"output\"\n    DATANAME \u003d \"lstm_fcn\"\n    MODELNAME \u003d \"{}_best_model.h5\".format(DATANAME)\n    \n\n\n    TRAIN \u003d True\n    NEW_MODEL \u003d True\n    SUBMISSION \u003d False\n    TEST \u003d False\n\n    EPOCHS \u003d 10\n    PERCENTAGE \u003d 100\n    BATCH_SIZE \u003d 128\n    CALLBACK_TIMEOUT \u003d 15\n    N_TIMESTEPS \u003d 60  # Change if Variable length\n    \n    SCALER \u003d sklearn.preprocessing.maxabs_scale\n    STATIONARY \u003d False\n\n    if SUBMISSION:\n        NPZ \u003d \u0027testSet\u0027\n    else:\n        NPZ \u003d \u0027fold3Training\u0027\n    CSVNAME \u003d NPZ + MODELNAME + \u0027.csv\u0027\n\n    if GOOGLE_COLAB:\n        ROOTDIR \u003d \"./gdrive/My Drive/Colab Notebooks\" + str(ROOTDIR).split(\"Colab Notebooks\")[-1]\n\n    rootdir \u003d Path(ROOTDIR)\n    datadir \u003d rootdir.joinpath(DATADIR)\n    outdir \u003d rootdir.joinpath(OUTDIR)\n\n    X, y \u003d load_npz_file(datadir / NPZ + \u0027.npz\u0027)\n        \n    \n    X \u003d sklearn.preprocessing.StandardScaler().fit_transform(X.reshape((X.shape[0], X.shape[1]*X.shape[2]))).reshape(X.shape)\n\n    model \u003d keras.models.load_model(os.path.join(outdir, model_name))\n    \n    y_pred \u003d model.predict(X)\n    y_labels \u003d np.argmax(y_pred,axis\u003d1)\n    \n    \n    if SUBMISSION:\n        ids \u003d np.arange(1, len(y_pred) + 1, dtype\u003dint)\n        df \u003d pd.DataFrame({\u0027Id\u0027:ids,\u0027ClassLabel\u0027:y_labels})\n        df.to_csv(outdir.join(CSVNAME))    \n    else:\n        y \u003d keras.utils.to_categorical(y, num_classes\u003d2)\n        plot_confusion_matrices(\n        y_target\u003dy, y_pred\u003dnp.argmax(y_pred,axis\u003d1), y_is_binary\u003dTrue, outdir\u003doutdir, name\u003dDATANAME\n        )\n        print(\"F1 loss: {:.5f}\".format(f1_loss(y, y_pred)))\n        \n\n",
      "metadata": {
        "pycharm": {
          "metadata": false,
          "name": "#%%\n"
        }
      }
    }
  ],
  "metadata": {
    "language_info": {
      "codemirror_mode": {
        "name": "ipython",
        "version": 2
      },
      "file_extension": ".py",
      "mimetype": "text/x-python",
      "name": "python",
      "nbconvert_exporter": "python",
      "pygments_lexer": "ipython2",
      "version": "2.7.6"
    },
    "kernelspec": {
      "name": "python3",
      "language": "python",
      "display_name": "Python 3"
    }
  },
  "nbformat": 4,
  "nbformat_minor": 0
}